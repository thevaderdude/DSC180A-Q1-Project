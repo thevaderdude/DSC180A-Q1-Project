{
 "cells": [
  {
   "cell_type": "code",
   "execution_count": null,
   "metadata": {},
   "outputs": [],
   "source": []
  },
  {
   "cell_type": "code",
   "execution_count": null,
   "metadata": {},
   "outputs": [],
   "source": [
    "#For Comparisonsbetween methods\n",
    "from src.compare import compare\n",
    "from src.data_loader.synthetic_dataset import SyntheticDataset\n",
    "from src.data_loader.real_datasets import *\n",
    "\n",
    "#For Paper Replications Synthetic data\n",
    "import logging\n",
    "import seaborn as sns\n",
    "import matplotlib.pyplot as plt\n",
    "\n",
    "from src.data_loader.synthetic_dataset import SyntheticDataset\n",
    "from src.golem import golem\n",
    "from src.golem_torch import golem_torch\n",
    "from src.notears_linear import notears_linear\n",
    "from src.dagma_linear import dagma_linear\n",
    "from src.utils.logger import LogHelper\n",
    "from src.utils.train import plotShd, plotPreds, testMultipleMethods\n",
    "\n",
    "import pandas as pd\n",
    "import numpy as np\n",
    "import matplotlib.pyplot as plt\n",
    "\n"
   ]
  },
  {
   "cell_type": "code",
   "execution_count": null,
   "metadata": {},
   "outputs": [],
   "source": [
    "examples = 1000\n",
    "degree = 4\n",
    "graph_type = 'ER'\n",
    "noise_type = 'gaussian_ev'\n",
    "seed=332\n",
    "\n",
    "ds = [20, 30, 50, 80, 100]\n",
    "\n",
    "datasets = [SyntheticDataset(n=examples,\n",
    "                             d=i, \n",
    "                             graph_type=graph_type, \n",
    "                             degree=degree, \n",
    "                             noise_type=noise_type, \n",
    "                             B_scale=3, \n",
    "                             seed=seed)\n",
    "            for i in ds]"
   ]
  },
  {
   "cell_type": "code",
   "execution_count": null,
   "metadata": {},
   "outputs": [],
   "source": [
    "[dataset.X.shape for dataset in datasets]"
   ]
  },
  {
   "cell_type": "code",
   "execution_count": null,
   "metadata": {},
   "outputs": [],
   "source": [
    "vals_golem = testMultipleMethods(lambda x: golem(x,.02,5.0,num_iter=100_000,\n",
    "                                   equal_variances=True), datasets)"
   ]
  },
  {
   "cell_type": "code",
   "execution_count": null,
   "metadata": {},
   "outputs": [],
   "source": [
    "vals_golem"
   ]
  },
  {
   "cell_type": "code",
   "execution_count": null,
   "metadata": {},
   "outputs": [],
   "source": [
    "golem_df = pd.DataFrame(vals_golem)\n",
    "golem_df[['shd', 'time']].to_csv('golem_results.csv')\n"
   ]
  },
  {
   "cell_type": "code",
   "execution_count": null,
   "metadata": {},
   "outputs": [],
   "source": [
    "vals_notears = testMultipleMethods(lambda x: notears_linear(x, 0.05,'l2'), datasets)"
   ]
  },
  {
   "cell_type": "code",
   "execution_count": null,
   "metadata": {},
   "outputs": [],
   "source": [
    "vals_notears"
   ]
  },
  {
   "cell_type": "code",
   "execution_count": null,
   "metadata": {},
   "outputs": [],
   "source": [
    "notears_df = pd.DataFrame(vals_notears)\n",
    "notears_df[['shd', 'time']].to_csv('notears_results.csv')\n"
   ]
  },
  {
   "cell_type": "code",
   "execution_count": null,
   "metadata": {},
   "outputs": [],
   "source": []
  },
  {
   "cell_type": "code",
   "execution_count": null,
   "metadata": {},
   "outputs": [],
   "source": [
    "vals_dagma = testMultipleMethods(lambda x: dagma_linear(x,.05), datasets)"
   ]
  },
  {
   "cell_type": "code",
   "execution_count": null,
   "metadata": {},
   "outputs": [],
   "source": [
    "vals_dagma"
   ]
  },
  {
   "cell_type": "code",
   "execution_count": null,
   "metadata": {},
   "outputs": [],
   "source": [
    "dagma_df = pd.DataFrame(vals_dagma)\n",
    "dagma_df[['shd', 'time']].to_csv('dagma_results.csv')\n"
   ]
  },
  {
   "cell_type": "code",
   "execution_count": null,
   "metadata": {},
   "outputs": [],
   "source": []
  }
 ],
 "metadata": {
  "kernelspec": {
   "display_name": "base",
   "language": "python",
   "name": "python3"
  },
  "language_info": {
   "codemirror_mode": {
    "name": "ipython",
    "version": 3
   },
   "file_extension": ".py",
   "mimetype": "text/x-python",
   "name": "python",
   "nbconvert_exporter": "python",
   "pygments_lexer": "ipython3",
   "version": "3.11.4"
  }
 },
 "nbformat": 4,
 "nbformat_minor": 2
}
