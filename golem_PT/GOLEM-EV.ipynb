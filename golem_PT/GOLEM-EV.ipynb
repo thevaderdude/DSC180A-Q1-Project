{
 "cells": [
  {
   "cell_type": "markdown",
   "metadata": {},
   "source": [
    "# Demo of GOLEM-EV\n",
    "\n",
    "Dataset configurations:\n",
    "- Ground truth: 20-node ER2 graph\n",
    "- Data: Linear DAG model with Gaussian-EV noise."
   ]
  },
  {
   "cell_type": "markdown",
   "metadata": {},
   "source": [
    "## Run GOLEM-EV\n",
    "\n",
    "Each run creates a directory based on current datetime to save the training outputs. In this case it is `output/2020-12-01_12-11-50-562`."
   ]
  },
  {
   "cell_type": "code",
   "execution_count": 8,
   "metadata": {},
   "outputs": [
    {
     "name": "stdout",
     "output_type": "stream",
     "text": [
      "2023-11-05 21:01:00,721 INFO - __main__ - Finished setting up the logger.\n",
      "2023-11-05 21:01:00,813 INFO - numexpr.utils - NumExpr defaulting to 8 threads.\n",
      "2023-11-05 21:01:00,946 INFO - __main__ - Finished loading the dataset.\n",
      "2023-11-05 21:01:01,203 INFO - trainers.golem_trainer - Started training for 100000.0 iterations.\n",
      "2023-11-05 21:01:01,205 INFO - trainers.golem_trainer - [Iter 0] score 7.200E+12, likelihood 1.396E+02, h 1.440E+12\n",
      "2023-11-05 21:01:04,050 INFO - trainers.golem_trainer - [Iter 5000] score 1.157E+10, likelihood 1.383E+02, h 2.314E+09\n",
      "2023-11-05 21:01:06,881 INFO - trainers.golem_trainer - [Iter 10000] score 9.739E+08, likelihood 1.278E+02, h 1.948E+08\n",
      "2023-11-05 21:01:09,681 INFO - trainers.golem_trainer - [Iter 15000] score 9.265E+07, likelihood 1.183E+02, h 1.853E+07\n",
      "2023-11-05 21:01:12,530 INFO - trainers.golem_trainer - [Iter 20000] score 9.113E+06, likelihood 1.133E+02, h 1.823E+06\n",
      "2023-11-05 21:01:15,591 INFO - trainers.golem_trainer - [Iter 25000] score 9.288E+05, likelihood 1.121E+02, h 1.857E+05\n",
      "2023-11-05 21:01:18,838 INFO - trainers.golem_trainer - [Iter 30000] score 9.958E+04, likelihood 1.120E+02, h 1.989E+04\n",
      "^C\n",
      "2023-11-05 21:01:20,183 CRITICAL - utils.logger - Unhandled exception.\n",
      "Traceback (most recent call last):\n",
      "  File \"/Users/valen/Documents/GitHub/golem/golem_PT/src/main.py\", line 70, in <module>\n",
      "    main()\n",
      "  File \"/Users/valen/Documents/GitHub/golem/golem_PT/src/main.py\", line 56, in main\n",
      "    B_est = golem(dataset.X, args.lambda_1, args.lambda_2, args.equal_variances, args.num_iter,\n",
      "            ^^^^^^^^^^^^^^^^^^^^^^^^^^^^^^^^^^^^^^^^^^^^^^^^^^^^^^^^^^^^^^^^^^^^^^^^^^^^^^^^^^^\n",
      "  File \"/Users/valen/Documents/GitHub/golem/golem_PT/src/golem.py\", line 48, in golem\n",
      "    B_est = trainer.train(model, X, num_iter, checkpoint_iter, output_dir)\n",
      "            ^^^^^^^^^^^^^^^^^^^^^^^^^^^^^^^^^^^^^^^^^^^^^^^^^^^^^^^^^^^^^^\n",
      "  File \"/Users/valen/Documents/GitHub/golem/golem_PT/src/trainers/golem_trainer.py\", line 44, in train\n",
      "    score, likelihood, h, B_est = self.train_iter(model, X)\n",
      "                                  ^^^^^^^^^^^^^^^^^^^^^^^^^\n",
      "  File \"/Users/valen/Documents/GitHub/golem/golem_PT/src/trainers/golem_trainer.py\", line 84, in train_iter\n",
      "    model.train_op.zero_grad()\n",
      "  File \"/Users/valen/anaconda3/lib/python3.11/site-packages/torch/_compile.py\", line 20, in inner\n",
      "    @functools.wraps(fn)\n",
      "    \n",
      "KeyboardInterrupt\n"
     ]
    }
   ],
   "source": [
    "!python src/main.py  --seed 1 \\\n",
    "                     --d 20 \\\n",
    "                     --graph_type ER \\\n",
    "                     --degree 4 \\\n",
    "                     --noise_type gaussian_ev \\\n",
    "                     --equal_variances \\\n",
    "                     --lambda_1 2e-2 \\\n",
    "                     --lambda_2 5.0 \\\n",
    "                     --checkpoint_iter 5000"
   ]
  },
  {
   "cell_type": "code",
   "execution_count": null,
   "metadata": {},
   "outputs": [],
   "source": []
  }
 ],
 "metadata": {
  "kernelspec": {
   "display_name": "Python 3",
   "language": "python",
   "name": "python3"
  },
  "language_info": {
   "codemirror_mode": {
    "name": "ipython",
    "version": 3
   },
   "file_extension": ".py",
   "mimetype": "text/x-python",
   "name": "python",
   "nbconvert_exporter": "python",
   "pygments_lexer": "ipython3",
   "version": "3.11.4"
  }
 },
 "nbformat": 4,
 "nbformat_minor": 4
}
