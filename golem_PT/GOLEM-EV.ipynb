{
 "cells": [
  {
   "cell_type": "markdown",
   "metadata": {},
   "source": [
    "# Demo of GOLEM-EV\n",
    "\n",
    "Dataset configurations:\n",
    "- Ground truth: 20-node ER2 graph\n",
    "- Data: Linear DAG model with Gaussian-EV noise."
   ]
  },
  {
   "cell_type": "markdown",
   "metadata": {},
   "source": [
    "## Run GOLEM-EV\n",
    "\n",
    "Each run creates a directory based on current datetime to save the training outputs. In this case it is `output/2020-12-01_12-11-50-562`."
   ]
  },
  {
   "cell_type": "code",
   "execution_count": 2,
   "metadata": {},
   "outputs": [
    {
     "name": "stdout",
     "output_type": "stream",
     "text": [
      "2023-12-01 00:35:53,679 INFO - __main__ - Finished setting up the logger.\n",
      "2023-12-01 00:35:53,877 INFO - numexpr.utils - NumExpr defaulting to 8 threads.\n",
      "2023-12-01 00:35:54,150 INFO - __main__ - Finished loading the dataset.\n",
      "2023-12-01 00:35:54,462 INFO - trainers.golem_trainer - Started training for 100000.0 iterations.\n",
      "2023-12-01 00:35:54,464 INFO - trainers.golem_trainer - TRAINING: [Iter 0] score 7.200E+12, likelihood 1.385E+02, h 1.440E+12\n",
      "2023-12-01 00:35:54,465 INFO - trainers.golem_trainer - VALIDATION: [Iter 0] score 7.200E+12, likelihood 1.167E+02, h 1.440E+12\n",
      "2023-12-01 00:35:59,258 INFO - trainers.golem_trainer - TRAINING: [Iter 5000] score 1.157E+10, likelihood 1.371E+02, h 2.314E+09\n",
      "2023-12-01 00:35:59,258 INFO - trainers.golem_trainer - VALIDATION: [Iter 5000] score 1.156E+10, likelihood 1.153E+02, h 2.312E+09\n",
      "2023-12-01 00:36:03,723 INFO - trainers.golem_trainer - TRAINING: [Iter 10000] score 9.739E+08, likelihood 1.277E+02, h 1.948E+08\n",
      "2023-12-01 00:36:03,723 INFO - trainers.golem_trainer - VALIDATION: [Iter 10000] score 9.734E+08, likelihood 1.061E+02, h 1.947E+08\n",
      "2023-12-01 00:36:08,274 INFO - trainers.golem_trainer - TRAINING: [Iter 15000] score 9.265E+07, likelihood 1.249E+02, h 1.853E+07\n",
      "2023-12-01 00:36:08,274 INFO - trainers.golem_trainer - VALIDATION: [Iter 15000] score 9.261E+07, likelihood 1.034E+02, h 1.852E+07\n",
      "2023-12-01 00:36:12,667 INFO - trainers.golem_trainer - TRAINING: [Iter 20000] score 9.113E+06, likelihood 1.237E+02, h 1.823E+06\n",
      "2023-12-01 00:36:12,667 INFO - trainers.golem_trainer - VALIDATION: [Iter 20000] score 9.109E+06, likelihood 1.021E+02, h 1.822E+06\n",
      "2023-12-01 00:36:17,167 INFO - trainers.golem_trainer - TRAINING: [Iter 25000] score 9.288E+05, likelihood 1.233E+02, h 1.857E+05\n",
      "2023-12-01 00:36:17,167 INFO - trainers.golem_trainer - VALIDATION: [Iter 25000] score 9.284E+05, likelihood 1.015E+02, h 1.856E+05\n",
      "2023-12-01 00:36:22,131 INFO - trainers.golem_trainer - TRAINING: [Iter 30000] score 9.959E+04, likelihood 1.225E+02, h 1.989E+04\n",
      "2023-12-01 00:36:22,131 INFO - trainers.golem_trainer - VALIDATION: [Iter 30000] score 9.952E+04, likelihood 1.007E+02, h 1.988E+04\n",
      "^C\n",
      "2023-12-01 00:36:23,048 CRITICAL - utils.logger - Unhandled exception.\n",
      "Traceback (most recent call last):\n",
      "  File \"/Users/valen/Documents/GitHub/golem/golem_PT/src/main.py\", line 70, in <module>\n",
      "    main()\n",
      "  File \"/Users/valen/Documents/GitHub/golem/golem_PT/src/main.py\", line 56, in main\n",
      "    B_est = golem(dataset.X, args.lambda_1, args.lambda_2, args.equal_variances, args.num_iter,\n",
      "            ^^^^^^^^^^^^^^^^^^^^^^^^^^^^^^^^^^^^^^^^^^^^^^^^^^^^^^^^^^^^^^^^^^^^^^^^^^^^^^^^^^^\n",
      "  File \"/Users/valen/Documents/GitHub/golem/golem_PT/src/golem.py\", line 57, in golem\n",
      "    B_est = trainer.train(model, X_train, X_val, num_iter, checkpoint_iter, output_dir)\n",
      "            ^^^^^^^^^^^^^^^^^^^^^^^^^^^^^^^^^^^^^^^^^^^^^^^^^^^^^^^^^^^^^^^^^^^^^^^^^^^\n",
      "  File \"/Users/valen/Documents/GitHub/golem/golem_PT/src/trainers/golem_trainer.py\", line 47, in train\n",
      "    score, likelihood, h, B_est = self.train_iter(model, X_train)\n",
      "                                  ^^^^^^^^^^^^^^^^^^^^^^^^^^^^^^^\n",
      "  File \"/Users/valen/Documents/GitHub/golem/golem_PT/src/trainers/golem_trainer.py\", line 91, in train_iter\n",
      "    score, likelihood, h, B_est  = model.run(X)\n",
      "                                   ^^^^^^^^^^^^\n",
      "  File \"/Users/valen/Documents/GitHub/golem/golem_PT/src/models/golem_model.py\", line 71, in run\n",
      "    self.h = self._compute_h()\n",
      "             ^^^^^^^^^^^^^^^^^\n",
      "  File \"/Users/valen/Documents/GitHub/golem/golem_PT/src/models/golem_model.py\", line 122, in _compute_h\n",
      "    return torch.trace(torch.linalg.matrix_exp(self.B * self.B)) - self.d\n",
      "                       ^^^^^^^^^^^^^^^^^^^^^^^^^^^^^^^^^^^^^^^^\n",
      "KeyboardInterrupt\n"
     ]
    }
   ],
   "source": [
    "!python src/main.py  --seed 1 \\\n",
    "                     --d 20 \\\n",
    "                     --graph_type ER \\\n",
    "                     --degree 4 \\\n",
    "                     --noise_type gaussian_ev \\\n",
    "                     --equal_variances \\\n",
    "                     --lambda_1 2e-2 \\\n",
    "                     --lambda_2 5.0 \\\n",
    "                     --checkpoint_iter 5000"
   ]
  },
  {
   "cell_type": "code",
   "execution_count": null,
   "metadata": {},
   "outputs": [],
   "source": []
  }
 ],
 "metadata": {
  "kernelspec": {
   "display_name": "Python 3",
   "language": "python",
   "name": "python3"
  },
  "language_info": {
   "codemirror_mode": {
    "name": "ipython",
    "version": 3
   },
   "file_extension": ".py",
   "mimetype": "text/x-python",
   "name": "python",
   "nbconvert_exporter": "python",
   "pygments_lexer": "ipython3",
   "version": "3.11.4"
  }
 },
 "nbformat": 4,
 "nbformat_minor": 4
}
