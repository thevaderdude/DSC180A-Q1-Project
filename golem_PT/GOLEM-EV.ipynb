{
 "cells": [
  {
   "cell_type": "markdown",
   "metadata": {},
   "source": [
    "# Demo of GOLEM-EV\n",
    "\n",
    "Dataset configurations:\n",
    "- Ground truth: 20-node ER2 graph\n",
    "- Data: Linear DAG model with Gaussian-EV noise."
   ]
  },
  {
   "cell_type": "markdown",
   "metadata": {},
   "source": [
    "## Run GOLEM-EV\n",
    "\n",
    "Each run creates a directory based on current datetime to save the training outputs. In this case it is `output/2020-12-01_12-11-50-562`."
   ]
  },
  {
   "cell_type": "code",
   "execution_count": 3,
   "metadata": {},
   "outputs": [
    {
     "name": "stdout",
     "output_type": "stream",
     "text": [
      "2023-11-05 20:49:13,664 INFO - __main__ - Finished setting up the logger.\n",
      "2023-11-05 20:49:13,666 CRITICAL - utils.logger - Unhandled exception.\n",
      "Traceback (most recent call last):\n",
      "  File \"/Users/valen/Documents/GitHub/golem/golem_PT/src/main.py\", line 70, in <module>\n",
      "    main()\n",
      "  File \"/Users/valen/Documents/GitHub/golem/golem_PT/src/main.py\", line 41, in main\n",
      "    dataset = SyntheticDataset(args.n, args.d, args.graph_type, args.degree,\n",
      "              ^^^^^^^^^^^^^^^^^^^^^^^^^^^^^^^^^^^^^^^^^^^^^^^^^^^^^^^^^^^^^^\n",
      "  File \"/Users/valen/Documents/GitHub/golem/golem_PT/src/data_loader/synthetic_dataset.py\", line 44, in __init__\n",
      "    self._setup()\n",
      "  File \"/Users/valen/Documents/GitHub/golem/golem_PT/src/data_loader/synthetic_dataset.py\", line 49, in _setup\n",
      "    self.B_bin = SyntheticDataset.simulate_random_dag(self.d, self.degree,\n",
      "                 ^^^^^^^^^^^^^^^^^^^^^^^^^^^^^^^^^^^^^^^^^^^^^^^^^^^^^^^^^\n",
      "  File \"/Users/valen/Documents/GitHub/golem/golem_PT/src/data_loader/synthetic_dataset.py\", line 120, in simulate_random_dag\n",
      "    B_bin = SyntheticDataset.simulate_er_dag(d, degree, rs)\n",
      "            ^^^^^^^^^^^^^^^^^^^^^^^^^^^^^^^^^^^^^^^^^^^^^^^\n",
      "  File \"/Users/valen/Documents/GitHub/golem/golem_PT/src/data_loader/synthetic_dataset.py\", line 76, in simulate_er_dag\n",
      "    B_und_bin = _graph_to_adjmat(G_und)    # Undirected\n",
      "                ^^^^^^^^^^^^^^^^^^^^^^^\n",
      "  File \"/Users/valen/Documents/GitHub/golem/golem_PT/src/data_loader/synthetic_dataset.py\", line 72, in _graph_to_adjmat\n",
      "    return nx.to_numpy_matrix(G)\n",
      "           ^^^^^^^^^^^^^^^^^^\n",
      "AttributeError: module 'networkx' has no attribute 'to_numpy_matrix'\n"
     ]
    }
   ],
   "source": [
    "!python src/main.py  --seed 1 \\\n",
    "                     --d 20 \\\n",
    "                     --graph_type ER \\\n",
    "                     --degree 4 \\\n",
    "                     --noise_type gaussian_ev \\\n",
    "                     --equal_variances \\\n",
    "                     --lambda_1 2e-2 \\\n",
    "                     --lambda_2 5.0 \\\n",
    "                     --checkpoint_iter 5000"
   ]
  },
  {
   "cell_type": "code",
   "execution_count": null,
   "metadata": {},
   "outputs": [],
   "source": []
  }
 ],
 "metadata": {
  "kernelspec": {
   "display_name": "Python 3",
   "language": "python",
   "name": "python3"
  },
  "language_info": {
   "codemirror_mode": {
    "name": "ipython",
    "version": 3
   },
   "file_extension": ".py",
   "mimetype": "text/x-python",
   "name": "python",
   "nbconvert_exporter": "python",
   "pygments_lexer": "ipython3",
   "version": "3.11.4"
  }
 },
 "nbformat": 4,
 "nbformat_minor": 4
}
