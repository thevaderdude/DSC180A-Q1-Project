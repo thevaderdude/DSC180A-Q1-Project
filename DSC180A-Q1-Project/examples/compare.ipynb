{
 "cells": [
  {
   "cell_type": "code",
   "execution_count": 2,
   "id": "49a620cf",
   "metadata": {},
   "outputs": [],
   "source": [
    "import sys\n",
    "sys.path.append('../')"
   ]
  },
  {
   "cell_type": "code",
   "execution_count": 1,
   "id": "2c7af67b",
   "metadata": {},
   "outputs": [
    {
     "ename": "ModuleNotFoundError",
     "evalue": "No module named 'src'",
     "output_type": "error",
     "traceback": [
      "\u001b[0;31m---------------------------------------------------------------------------\u001b[0m",
      "\u001b[0;31mModuleNotFoundError\u001b[0m                       Traceback (most recent call last)",
      "Cell \u001b[0;32mIn[1], line 1\u001b[0m\n\u001b[0;32m----> 1\u001b[0m \u001b[38;5;28;01mfrom\u001b[39;00m \u001b[38;5;21;01msrc\u001b[39;00m\u001b[38;5;21;01m.\u001b[39;00m\u001b[38;5;21;01mtrain_model\u001b[39;00m\u001b[38;5;21;01m.\u001b[39;00m\u001b[38;5;21;01mgolem\u001b[39;00m \u001b[38;5;28;01mimport\u001b[39;00m golem\n\u001b[1;32m      2\u001b[0m \u001b[38;5;28;01mfrom\u001b[39;00m \u001b[38;5;21;01msrc\u001b[39;00m\u001b[38;5;21;01m.\u001b[39;00m\u001b[38;5;21;01mdata_loader\u001b[39;00m\u001b[38;5;21;01m.\u001b[39;00m\u001b[38;5;21;01msynthetic_dataset\u001b[39;00m \u001b[38;5;28;01mimport\u001b[39;00m SyntheticDataset\n\u001b[1;32m      3\u001b[0m \u001b[38;5;28;01mfrom\u001b[39;00m \u001b[38;5;21;01msrc\u001b[39;00m\u001b[38;5;21;01m.\u001b[39;00m\u001b[38;5;21;01mutils\u001b[39;00m\u001b[38;5;21;01m.\u001b[39;00m\u001b[38;5;21;01mtrain\u001b[39;00m \u001b[38;5;28;01mimport\u001b[39;00m postprocess, checkpoint_after_training\n",
      "\u001b[0;31mModuleNotFoundError\u001b[0m: No module named 'src'"
     ]
    }
   ],
   "source": [
    "\n",
    "from src.train_model.golem import golem\n",
    "from src.data_loader.synthetic_dataset import SyntheticDataset\n",
    "from src.utils.train import postprocess, checkpoint_after_training\n"
   ]
  },
  {
   "cell_type": "code",
   "execution_count": 13,
   "id": "2afecf89",
   "metadata": {},
   "outputs": [
    {
     "data": {
      "text/plain": [
       "src.models.golem.golem_model.GolemModel"
      ]
     },
     "execution_count": 13,
     "metadata": {},
     "output_type": "execute_result"
    }
   ],
   "source": [
    "\n",
    "\n",
    "lambda_1 = 2e-2\n",
    "lambda_2 = 5.0\n",
    "seed = 1\n",
    "equal_variances = True\n",
    "num_iter = 1e+5\n",
    "learning_rate=1e-3\n",
    "checkpoint_iter=None\n",
    "B_init = None\n",
    "output_dir = None\n",
    "\n",
    "\n",
    "dataset = SyntheticDataset(args.n, args.d, args.graph_type, \n",
    "                           args.degree,args.noise_type, \n",
    "                           args.B_scale, seed)\n",
    "\n",
    "#GolemModel(n = 1000, d = 20, lambda_1 = 2e-2, \n",
    " #          lambda_2 = 5.0, seed = seed, B_init = B_init)\n",
    "\n",
    "B_est = golem(dataset.X, lambda_1, lambda_2, \n",
    "              equal_variances, num_iter,\n",
    "              learning_rate, seed, \n",
    "              checkpoint_iter, \n",
    "              output_dir, B_init)\n",
    "\n",
    "B_processed = postprocess(B_est, args.graph_thres)\n",
    "\n",
    "checkpoint_after_training(output_dir, dataset.X, dataset.B, B_init,\n",
    "                              B_est, B_processed, _logger.info)\n",
    "\n"
   ]
  },
  {
   "cell_type": "code",
   "execution_count": null,
   "id": "5d7d7f74",
   "metadata": {},
   "outputs": [],
   "source": []
  }
 ],
 "metadata": {
  "kernelspec": {
   "display_name": "Python 3 (ipykernel)",
   "language": "python",
   "name": "python3"
  },
  "language_info": {
   "codemirror_mode": {
    "name": "ipython",
    "version": 3
   },
   "file_extension": ".py",
   "mimetype": "text/x-python",
   "name": "python",
   "nbconvert_exporter": "python",
   "pygments_lexer": "ipython3",
   "version": "3.11.1"
  }
 },
 "nbformat": 4,
 "nbformat_minor": 5
}
